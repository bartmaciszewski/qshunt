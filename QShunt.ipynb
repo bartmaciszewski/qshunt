{
 "cells": [
  {
   "cell_type": "markdown",
   "id": "large-atlanta",
   "metadata": {},
   "source": [
    "# Attempt to apply Grover's algorithm to a \"rail yard shunting\" problem"
   ]
  },
  {
   "cell_type": "markdown",
   "id": "junior-despite",
   "metadata": {
    "slideshow": {
     "slide_type": "slide"
    }
   },
   "source": [
    "I understand that Grover's algorithm relies on amplitude amplification which I think is a result of quantum interference - thus I think this is suitable for the IBM creative QHack 2021 challenge - although I am just starting with qc so could be wrong!\n",
    "\n",
    "My attempt is to model the combinatorial shunting problem as a SAT and use Grover's algorithm to identify a feasible solution.  Previously my solutions involved Dynamic Programming and Reinforcement Learning successful in solving small 3x3 problems - so I was interested to see how QC could be applied.\n",
    "\n",
    "In \"our\" version of shunting problem the objective is to move select cars from one track to another in sorted order in less than a certain number of steps (time).\n",
    "\n",
    "In this formulation we consider each track to be a stack of a certain length.  Each spot on the track  is 1 if occupied by a car and 0 otherwise.   Cars must be popped of the stack and pushed onto another.  A \"shunt\" is considered a single pop/push operation of one or more cars.  At the end of a specifed number of periods the designated cars must be in sorted order on the destination track.  Not all tracks are directly connected and shunts may need to use intermedidate tracks to get to the destination.\n",
    "\n",
    "For example consider a 3 track 3 car shunting problem:\n",
    "Track 1: 'CBA'\n",
    "Track 2: '== '\n",
    "Track 3: '==='\n",
    "\n",
    "Where letters represent rail cars and = emtpy track spots.  Note that track 1 is connected to 2, and 2 to 3.\n",
    "\n",
    "The objective is to arrive at the following configuration:\n",
    "Track 1: '==='\n",
    "Track 2: '== '\n",
    "Track 3: 'ABC'\n",
    "\n",
    "We first start with the simplest case of 1 car, 2 tracks and a trivial problem of moving the single car to the other track in 1 time period:\n",
    "Track 1: 'A'\n",
    "Track 2: '='"
   ]
  },
  {
   "cell_type": "code",
   "execution_count": 1,
   "id": "serious-detector",
   "metadata": {},
   "outputs": [],
   "source": [
    "import numpy as np\n",
    "from qiskit import BasicAer\n",
    "from qiskit.tools.visualization import plot_histogram\n",
    "from qiskit.aqua import QuantumInstance\n",
    "from qiskit.aqua.algorithms import Grover\n",
    "from qiskit.aqua.components.oracles import LogicalExpressionOracle, TruthTableOracle"
   ]
  },
  {
   "cell_type": "markdown",
   "id": "virtual-cross",
   "metadata": {},
   "source": [
    "We model the problem as 4-SAT problem where each variable represents the car being at given spot at a specific time.  Basically the state space are all the possible locations of cars at the rail yard at every time period. Namely (1,0) is the starting position and (0, 1) is the desired position at the end of the time period. "
   ]
  },
  {
   "cell_type": "code",
   "execution_count": 2,
   "id": "center-creator",
   "metadata": {},
   "outputs": [],
   "source": [
    "input_4sat_instance = '''\n",
    "c qshunt DIMACS-CNF 4-SAT\n",
    "p cnf 4 1\n",
    "1 -2 -3 4 0\n",
    "'''"
   ]
  },
  {
   "cell_type": "code",
   "execution_count": 3,
   "id": "radical-henry",
   "metadata": {},
   "outputs": [
    {
     "name": "stdout",
     "output_type": "stream",
     "text": [
      "[-1, 2, 3, -4]\n"
     ]
    }
   ],
   "source": [
    "oracle = LogicalExpressionOracle(input_4sat_instance)\n",
    "grover = Grover(oracle)\n",
    "backend = BasicAer.get_backend('qasm_simulator')\n",
    "quantum_instance = QuantumInstance(backend, shots=1024)\n",
    "result = grover.run(quantum_instance)\n",
    "print(result.assignment)"
   ]
  },
  {
   "cell_type": "code",
   "execution_count": 4,
   "id": "possible-baseline",
   "metadata": {
    "scrolled": true
   },
   "outputs": [
    {
     "data": {
      "image/png": "[encoded data removed]",
      "text/plain": [
       "<Figure size 504x360 with 1 Axes>"
      ]
     },
     "execution_count": 4,
     "metadata": {},
     "output_type": "execute_result"
    }
   ],
   "source": [
    "plot_histogram(result['measurement'])"
   ]
  },
  {
   "cell_type": "markdown",
   "id": "controversial-dream",
   "metadata": {},
   "source": [
    "Note that our variable space is 2 tracks x 2 time periods.  Let's increase the size to 3 tracks x 3 spots x 3 time periods ignoring the need to sort cars at this time."
   ]
  },
  {
   "cell_type": "code",
   "execution_count": 5,
   "id": "informational-guitar",
   "metadata": {},
   "outputs": [],
   "source": [
    "input_9sat_instance = '''\n",
    "c qshunt DIMACS-CNF 27-SAT\n",
    "p cnf 27 3\n",
    "1 2 3 -4 -5 -6 -7 -8 -9 -10 -11 -12 -13 -14 -15 -16 -17 -18 -19 -20 -21 -22 -23 -24 -25 -26 -27 0\n",
    "-1 -2 -3 -4 -5 -6 -7 -8 -9 -10 -11 -12 13 14 15 -16 -17 -18 -19 -20 -21 -22 -23 -24 -25 -26 -27 0\n",
    "-1 -2 -3 -4 -5 -6 -7 -8 -9 -10 -11 -12 -13 -14 -15 -16 -17 -18 -19 -20 -21 -22 -23 -24 25 26 27 0\n",
    "'''"
   ]
  },
  {
   "cell_type": "markdown",
   "id": "third-aruba",
   "metadata": {},
   "source": [
    "Unfortunately a 3x3 problem increased the size of the SAT problem to 27!  Furthermore notice how writing out the constraints actually requires to determine a feasible solution!\n",
    "\n",
    "Caution: below will run of memory in notebook!"
   ]
  },
  {
   "cell_type": "code",
   "execution_count": null,
   "id": "unknown-disney",
   "metadata": {},
   "outputs": [],
   "source": [
    "oracle = LogicalExpressionOracle(input_9sat_instance)\n",
    "grover = Grover(oracle)\n",
    "backend = BasicAer.get_backend('qasm_simulator')\n",
    "quantum_instance = QuantumInstance(backend, shots=1024)\n",
    "result = grover.run(quantum_instance)\n",
    "print(result.assignment)"
   ]
  },
  {
   "cell_type": "code",
   "execution_count": null,
   "id": "supported-brooklyn",
   "metadata": {},
   "outputs": [],
   "source": [
    "plot_histogram(result['measurement'])"
   ]
  },
  {
   "cell_type": "markdown",
   "id": "metallic-executive",
   "metadata": {
    "slideshow": {
     "slide_type": "slide"
    }
   },
   "source": [
    "Unfortunately running a problem of this size was not possible in the Quantum Lab notebook without running out of memory.\n",
    "\n",
    "It was a good learning opportunity! But I will now focus on a different formulation (modified problem?) to reduce the variable space for the SAT problem and how to generalize the constraints (e.g. we have a fixed number of cars in all time periods and cars move in blocks).\n",
    "\n",
    "Furthermore we ignored identifying the actual cars which is required for sorting.\n",
    "\n",
    "I am impressed with qiskit, IBM's QC capability, and ease of integration with traditional optimization algorithms!  Looking forward to learning more.\n",
    "\n",
    "Bart Maciszewski"
   ]
  }
 ],
 "metadata": {
  "kernelspec": {
   "display_name": "Python 3",
   "language": "python",
   "name": "python3"
  },
  "language_info": {
   "codemirror_mode": {
    "name": "ipython",
    "version": 3
   },
   "file_extension": ".py",
   "mimetype": "text/x-python",
   "name": "python",
   "nbconvert_exporter": "python",
   "pygments_lexer": "ipython3",
   "version": "3.8.8"
  }
 },
 "nbformat": 4,
 "nbformat_minor": 5
}
